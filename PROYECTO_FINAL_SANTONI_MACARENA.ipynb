{
  "nbformat": 4,
  "nbformat_minor": 0,
  "metadata": {
    "colab": {
      "provenance": []
    },
    "kernelspec": {
      "name": "python3",
      "display_name": "Python 3"
    },
    "language_info": {
      "name": "python"
    }
  },
  "cells": [
    {
      "cell_type": "markdown",
      "source": [
        "**Resumen**\n",
        "\n",
        "Este estudio analiza un conjunto de datos detallados sobre vuelos, que incluye información sobre fechas de salida, clasificación de vuelos (cabotaje o internacional), aerolíneas, aeropuertos, localidades de origen y destino, y la cantidad de pasajeros y asientos disponibles por vuelo. El análisis permite identificar patrones de tráfico aéreo a nivel anual, la cantidad de pasajeros, la capacidad de los vuelos y la conectividad entre distintos puntos de Argentina y el resto del mundo. Se busca evaluar la frecuencia de vuelos por aeropuerto, la popularidad de diferentes destinos, y la clasificación de vuelos más utilizada."
      ],
      "metadata": {
        "id": "vnohbzZfU1Kn"
      }
    },
    {
      "cell_type": "markdown",
      "source": [
        "**Objetivo**\n",
        "\n",
        "El objetivo de este estudio es determinar cuál es la aerolínea con mayor tráfico y mayor cantidad de vuelos en el conjunto de datos, identificar cuál es el vuelo con más pasajeros y establecer cuál es el país con más tránsito aéreo. Estos hallazgos proporcionarán información clave para optimizar las operaciones, mejorar la oferta de vuelos y tomar decisiones estratégicas sobre expansión y concentración de recursos en rutas de alto volumen."
      ],
      "metadata": {
        "id": "jauBEWhtVJMl"
      }
    },
    {
      "cell_type": "markdown",
      "source": [
        "**Contexto Comercial**\n",
        "\n",
        "En el contexto de una aerolínea argentina que busca optimizar su red de vuelos y aumentar la eficiencia operativa, entender los patrones de tráfico aéreo y la distribución de pasajeros por rutas nacionales e internacionales es esencial. La empresa, con un enfoque en la mejora de la conectividad y la expansión de su red, busca maximizar la utilización de sus aeropuertos y recursos. Este análisis de datos contribuirá a la toma de decisiones estratégicas, como la asignación de vuelos a destinos más demandados, la evaluación de la capacidad de los aeropuertos, y la identificación de oportunidades para ampliar la oferta en mercados internacionales clave."
      ],
      "metadata": {
        "id": "V7xquREHVO5q"
      }
    },
    {
      "cell_type": "markdown",
      "source": [
        "*Hipotesis*\n",
        "\n",
        "Existe una correlación significativa entre las variables X (clasificación de vuelo, clase de vuelo, aerolínea, origen y destino por país y continente, número de asientos y vuelos) y Y (número de pasajeros), lo que sugiere una relación causal entre los factores analizados. Esto indica que las características de los vuelos (como la clase, aerolínea, la cantidad de asientos, y los destinos) pueden influir de manera significativa en el número de pasajeros transportados."
      ],
      "metadata": {
        "id": "lj_pFCZgZpJE"
      }
    },
    {
      "cell_type": "code",
      "execution_count": 5,
      "metadata": {
        "id": "HnSRSNiAAlOl"
      },
      "outputs": [],
      "source": [
        "import pandas as pd\n",
        "import numpy as np\n",
        "import matplotlib.pyplot as plt\n",
        "import seaborn as sns\n",
        "from google.colab import files\n",
        "from google.colab import drive\n",
        "from sklearn.model_selection import train_test_split\n",
        "from sklearn.neighbors import KNeighborsClassifier\n",
        "from sklearn.metrics import accuracy_score, confusion_matrix, classification_report"
      ]
    },
    {
      "cell_type": "code",
      "source": [
        "drive.mount('/content/drive')"
      ],
      "metadata": {
        "colab": {
          "base_uri": "https://localhost:8080/"
        },
        "id": "bJAfINlvAtU0",
        "outputId": "fc9588e2-0a85-47dd-b964-a8e81469d3b0"
      },
      "execution_count": null,
      "outputs": [
        {
          "output_type": "stream",
          "name": "stdout",
          "text": [
            "Drive already mounted at /content/drive; to attempt to forcibly remount, call drive.mount(\"/content/drive\", force_remount=True).\n"
          ]
        }
      ]
    },
    {
      "cell_type": "code",
      "source": [
        "df = pd.read_excel(\"/content/drive/MyDrive/Colab/dbvuelos.xltx\")\n",
        "df.shape"
      ],
      "metadata": {
        "id": "DEPMxZ9SBS_3",
        "colab": {
          "base_uri": "https://localhost:8080/"
        },
        "outputId": "2d5b39d8-1427-4226-9a87-20eadd1ee537"
      },
      "execution_count": 4,
      "outputs": [
        {
          "output_type": "execute_result",
          "data": {
            "text/plain": [
              "(832883, 21)"
            ]
          },
          "metadata": {},
          "execution_count": 4
        }
      ]
    },
    {
      "cell_type": "code",
      "source": [
        "df.info()\n",
        "df.describe()\n",
        "df.head()"
      ],
      "metadata": {
        "colab": {
          "base_uri": "https://localhost:8080/",
          "height": 957
        },
        "id": "rmd4sHN8B1io",
        "outputId": "e724aaea-d344-41cb-86bf-7bdb14f89b3c"
      },
      "execution_count": 6,
      "outputs": [
        {
          "output_type": "stream",
          "name": "stdout",
          "text": [
            "<class 'pandas.core.frame.DataFrame'>\n",
            "RangeIndex: 832883 entries, 0 to 832882\n",
            "Data columns (total 21 columns):\n",
            " #   Column               Non-Null Count   Dtype         \n",
            "---  ------               --------------   -----         \n",
            " 0   indice_tiempo        832883 non-null  datetime64[ns]\n",
            " 1   clasificacion_vuelo  832883 non-null  object        \n",
            " 2   clase_vuelo          832883 non-null  object        \n",
            " 3   aerolinea            832883 non-null  object        \n",
            " 4   origen_oaci          832883 non-null  object        \n",
            " 5   origen_aeropuerto    832883 non-null  object        \n",
            " 6   origen_localidad     832883 non-null  object        \n",
            " 7   origen_provincia     658763 non-null  object        \n",
            " 8   origen_pais          832883 non-null  object        \n",
            " 9   origen_continente    832882 non-null  object        \n",
            " 10  destino_oaci         832883 non-null  object        \n",
            " 11  destino_aeropuerto   832883 non-null  object        \n",
            " 12  destino_localidad    832883 non-null  object        \n",
            " 13  destino_provincia    657792 non-null  object        \n",
            " 14  destino_pais         832685 non-null  object        \n",
            " 15  destino_continente   832883 non-null  object        \n",
            " 16  pasajeros            832883 non-null  object        \n",
            " 17  asientos             832883 non-null  object        \n",
            " 18  vuelos               832883 non-null  int64         \n",
            " 19  Unnamed: 19          37720 non-null   float64       \n",
            " 20  Unnamed: 20          718 non-null     float64       \n",
            "dtypes: datetime64[ns](1), float64(2), int64(1), object(17)\n",
            "memory usage: 133.4+ MB\n"
          ]
        },
        {
          "output_type": "execute_result",
          "data": {
            "text/plain": [
              "  indice_tiempo clasificacion_vuelo clase_vuelo              aerolinea  \\\n",
              "0    2017-01-01            Cabotaje  No Regular    Andes Líneas Aéreas   \n",
              "1    2017-01-01            Cabotaje  No Regular    Andes Líneas Aéreas   \n",
              "2    2017-01-01            Cabotaje  No Regular    Andes Líneas Aéreas   \n",
              "3    2017-01-01            Cabotaje     Regular  Aerolíneas Argentinas   \n",
              "4    2017-01-01            Cabotaje     Regular  Aerolíneas Argentinas   \n",
              "\n",
              "  origen_oaci                          origen_aeropuerto  \\\n",
              "0        SAAV                  Aeropuerto de Sauce Viejo   \n",
              "1        SASA    Aeropuerto Int. Martín Miguel de Güemes   \n",
              "2        SAZS       Aeropuerto Int. Tte. Luis Candelaria   \n",
              "3        SAAR  Aeropuerto Int. de Rosario Islas Malvinas   \n",
              "4        SAAR  Aeropuerto Int. de Rosario Islas Malvinas   \n",
              "\n",
              "          origen_localidad origen_provincia origen_pais origen_continente  \\\n",
              "0                 Santa Fe         Santa Fe   Argentina   América del Sur   \n",
              "1                    Salta            Salta   Argentina   América del Sur   \n",
              "2  San Carlos de Bariloche        Río Negro   Argentina   América del Sur   \n",
              "3                  Rosario         Santa Fe   Argentina   América del Sur   \n",
              "4                  Rosario         Santa Fe   Argentina   América del Sur   \n",
              "\n",
              "   ...                            destino_aeropuerto        destino_localidad  \\\n",
              "0  ...          Aeropuerto Int. Tte. Luis Candelaria  San Carlos de Bariloche   \n",
              "1  ...          Aeropuerto Int. Gdor. Horacio Guzmán    San Salvador de Jujuy   \n",
              "2  ...                     Aeropuerto de Sauce Viejo                 Santa Fe   \n",
              "3  ...  Aeropuerto Int. Ingeniero Ambrosio Taravella                  Córdoba   \n",
              "4  ...            Aeropuerto Int. Ministro Pistarini                   Ezeiza   \n",
              "\n",
              "  destino_provincia destino_pais destino_continente pasajeros asientos vuelos  \\\n",
              "0         Río Negro    Argentina    América del Sur        85       85      1   \n",
              "1             Jujuy    Argentina    América del Sur        23       83      1   \n",
              "2          Santa Fe    Argentina    América del Sur        78       83      1   \n",
              "3           Córdoba    Argentina    América del Sur        48      128      1   \n",
              "4      Buenos Aires    Argentina    América del Sur        90      128      1   \n",
              "\n",
              "   Unnamed: 19  Unnamed: 20  \n",
              "0          NaN          NaN  \n",
              "1          NaN          NaN  \n",
              "2          NaN          NaN  \n",
              "3          NaN          NaN  \n",
              "4          NaN          NaN  \n",
              "\n",
              "[5 rows x 21 columns]"
            ],
            "text/html": [
              "\n",
              "  <div id=\"df-b50e004f-517c-46da-a87e-733dd9c2f0a3\" class=\"colab-df-container\">\n",
              "    <div>\n",
              "<style scoped>\n",
              "    .dataframe tbody tr th:only-of-type {\n",
              "        vertical-align: middle;\n",
              "    }\n",
              "\n",
              "    .dataframe tbody tr th {\n",
              "        vertical-align: top;\n",
              "    }\n",
              "\n",
              "    .dataframe thead th {\n",
              "        text-align: right;\n",
              "    }\n",
              "</style>\n",
              "<table border=\"1\" class=\"dataframe\">\n",
              "  <thead>\n",
              "    <tr style=\"text-align: right;\">\n",
              "      <th></th>\n",
              "      <th>indice_tiempo</th>\n",
              "      <th>clasificacion_vuelo</th>\n",
              "      <th>clase_vuelo</th>\n",
              "      <th>aerolinea</th>\n",
              "      <th>origen_oaci</th>\n",
              "      <th>origen_aeropuerto</th>\n",
              "      <th>origen_localidad</th>\n",
              "      <th>origen_provincia</th>\n",
              "      <th>origen_pais</th>\n",
              "      <th>origen_continente</th>\n",
              "      <th>...</th>\n",
              "      <th>destino_aeropuerto</th>\n",
              "      <th>destino_localidad</th>\n",
              "      <th>destino_provincia</th>\n",
              "      <th>destino_pais</th>\n",
              "      <th>destino_continente</th>\n",
              "      <th>pasajeros</th>\n",
              "      <th>asientos</th>\n",
              "      <th>vuelos</th>\n",
              "      <th>Unnamed: 19</th>\n",
              "      <th>Unnamed: 20</th>\n",
              "    </tr>\n",
              "  </thead>\n",
              "  <tbody>\n",
              "    <tr>\n",
              "      <th>0</th>\n",
              "      <td>2017-01-01</td>\n",
              "      <td>Cabotaje</td>\n",
              "      <td>No Regular</td>\n",
              "      <td>Andes Líneas Aéreas</td>\n",
              "      <td>SAAV</td>\n",
              "      <td>Aeropuerto de Sauce Viejo</td>\n",
              "      <td>Santa Fe</td>\n",
              "      <td>Santa Fe</td>\n",
              "      <td>Argentina</td>\n",
              "      <td>América del Sur</td>\n",
              "      <td>...</td>\n",
              "      <td>Aeropuerto Int. Tte. Luis Candelaria</td>\n",
              "      <td>San Carlos de Bariloche</td>\n",
              "      <td>Río Negro</td>\n",
              "      <td>Argentina</td>\n",
              "      <td>América del Sur</td>\n",
              "      <td>85</td>\n",
              "      <td>85</td>\n",
              "      <td>1</td>\n",
              "      <td>NaN</td>\n",
              "      <td>NaN</td>\n",
              "    </tr>\n",
              "    <tr>\n",
              "      <th>1</th>\n",
              "      <td>2017-01-01</td>\n",
              "      <td>Cabotaje</td>\n",
              "      <td>No Regular</td>\n",
              "      <td>Andes Líneas Aéreas</td>\n",
              "      <td>SASA</td>\n",
              "      <td>Aeropuerto Int. Martín Miguel de Güemes</td>\n",
              "      <td>Salta</td>\n",
              "      <td>Salta</td>\n",
              "      <td>Argentina</td>\n",
              "      <td>América del Sur</td>\n",
              "      <td>...</td>\n",
              "      <td>Aeropuerto Int. Gdor. Horacio Guzmán</td>\n",
              "      <td>San Salvador de Jujuy</td>\n",
              "      <td>Jujuy</td>\n",
              "      <td>Argentina</td>\n",
              "      <td>América del Sur</td>\n",
              "      <td>23</td>\n",
              "      <td>83</td>\n",
              "      <td>1</td>\n",
              "      <td>NaN</td>\n",
              "      <td>NaN</td>\n",
              "    </tr>\n",
              "    <tr>\n",
              "      <th>2</th>\n",
              "      <td>2017-01-01</td>\n",
              "      <td>Cabotaje</td>\n",
              "      <td>No Regular</td>\n",
              "      <td>Andes Líneas Aéreas</td>\n",
              "      <td>SAZS</td>\n",
              "      <td>Aeropuerto Int. Tte. Luis Candelaria</td>\n",
              "      <td>San Carlos de Bariloche</td>\n",
              "      <td>Río Negro</td>\n",
              "      <td>Argentina</td>\n",
              "      <td>América del Sur</td>\n",
              "      <td>...</td>\n",
              "      <td>Aeropuerto de Sauce Viejo</td>\n",
              "      <td>Santa Fe</td>\n",
              "      <td>Santa Fe</td>\n",
              "      <td>Argentina</td>\n",
              "      <td>América del Sur</td>\n",
              "      <td>78</td>\n",
              "      <td>83</td>\n",
              "      <td>1</td>\n",
              "      <td>NaN</td>\n",
              "      <td>NaN</td>\n",
              "    </tr>\n",
              "    <tr>\n",
              "      <th>3</th>\n",
              "      <td>2017-01-01</td>\n",
              "      <td>Cabotaje</td>\n",
              "      <td>Regular</td>\n",
              "      <td>Aerolíneas Argentinas</td>\n",
              "      <td>SAAR</td>\n",
              "      <td>Aeropuerto Int. de Rosario Islas Malvinas</td>\n",
              "      <td>Rosario</td>\n",
              "      <td>Santa Fe</td>\n",
              "      <td>Argentina</td>\n",
              "      <td>América del Sur</td>\n",
              "      <td>...</td>\n",
              "      <td>Aeropuerto Int. Ingeniero Ambrosio Taravella</td>\n",
              "      <td>Córdoba</td>\n",
              "      <td>Córdoba</td>\n",
              "      <td>Argentina</td>\n",
              "      <td>América del Sur</td>\n",
              "      <td>48</td>\n",
              "      <td>128</td>\n",
              "      <td>1</td>\n",
              "      <td>NaN</td>\n",
              "      <td>NaN</td>\n",
              "    </tr>\n",
              "    <tr>\n",
              "      <th>4</th>\n",
              "      <td>2017-01-01</td>\n",
              "      <td>Cabotaje</td>\n",
              "      <td>Regular</td>\n",
              "      <td>Aerolíneas Argentinas</td>\n",
              "      <td>SAAR</td>\n",
              "      <td>Aeropuerto Int. de Rosario Islas Malvinas</td>\n",
              "      <td>Rosario</td>\n",
              "      <td>Santa Fe</td>\n",
              "      <td>Argentina</td>\n",
              "      <td>América del Sur</td>\n",
              "      <td>...</td>\n",
              "      <td>Aeropuerto Int. Ministro Pistarini</td>\n",
              "      <td>Ezeiza</td>\n",
              "      <td>Buenos Aires</td>\n",
              "      <td>Argentina</td>\n",
              "      <td>América del Sur</td>\n",
              "      <td>90</td>\n",
              "      <td>128</td>\n",
              "      <td>1</td>\n",
              "      <td>NaN</td>\n",
              "      <td>NaN</td>\n",
              "    </tr>\n",
              "  </tbody>\n",
              "</table>\n",
              "<p>5 rows × 21 columns</p>\n",
              "</div>\n",
              "    <div class=\"colab-df-buttons\">\n",
              "\n",
              "  <div class=\"colab-df-container\">\n",
              "    <button class=\"colab-df-convert\" onclick=\"convertToInteractive('df-b50e004f-517c-46da-a87e-733dd9c2f0a3')\"\n",
              "            title=\"Convert this dataframe to an interactive table.\"\n",
              "            style=\"display:none;\">\n",
              "\n",
              "  <svg xmlns=\"http://www.w3.org/2000/svg\" height=\"24px\" viewBox=\"0 -960 960 960\">\n",
              "    <path d=\"M120-120v-720h720v720H120Zm60-500h600v-160H180v160Zm220 220h160v-160H400v160Zm0 220h160v-160H400v160ZM180-400h160v-160H180v160Zm440 0h160v-160H620v160ZM180-180h160v-160H180v160Zm440 0h160v-160H620v160Z\"/>\n",
              "  </svg>\n",
              "    </button>\n",
              "\n",
              "  <style>\n",
              "    .colab-df-container {\n",
              "      display:flex;\n",
              "      gap: 12px;\n",
              "    }\n",
              "\n",
              "    .colab-df-convert {\n",
              "      background-color: #E8F0FE;\n",
              "      border: none;\n",
              "      border-radius: 50%;\n",
              "      cursor: pointer;\n",
              "      display: none;\n",
              "      fill: #1967D2;\n",
              "      height: 32px;\n",
              "      padding: 0 0 0 0;\n",
              "      width: 32px;\n",
              "    }\n",
              "\n",
              "    .colab-df-convert:hover {\n",
              "      background-color: #E2EBFA;\n",
              "      box-shadow: 0px 1px 2px rgba(60, 64, 67, 0.3), 0px 1px 3px 1px rgba(60, 64, 67, 0.15);\n",
              "      fill: #174EA6;\n",
              "    }\n",
              "\n",
              "    .colab-df-buttons div {\n",
              "      margin-bottom: 4px;\n",
              "    }\n",
              "\n",
              "    [theme=dark] .colab-df-convert {\n",
              "      background-color: #3B4455;\n",
              "      fill: #D2E3FC;\n",
              "    }\n",
              "\n",
              "    [theme=dark] .colab-df-convert:hover {\n",
              "      background-color: #434B5C;\n",
              "      box-shadow: 0px 1px 3px 1px rgba(0, 0, 0, 0.15);\n",
              "      filter: drop-shadow(0px 1px 2px rgba(0, 0, 0, 0.3));\n",
              "      fill: #FFFFFF;\n",
              "    }\n",
              "  </style>\n",
              "\n",
              "    <script>\n",
              "      const buttonEl =\n",
              "        document.querySelector('#df-b50e004f-517c-46da-a87e-733dd9c2f0a3 button.colab-df-convert');\n",
              "      buttonEl.style.display =\n",
              "        google.colab.kernel.accessAllowed ? 'block' : 'none';\n",
              "\n",
              "      async function convertToInteractive(key) {\n",
              "        const element = document.querySelector('#df-b50e004f-517c-46da-a87e-733dd9c2f0a3');\n",
              "        const dataTable =\n",
              "          await google.colab.kernel.invokeFunction('convertToInteractive',\n",
              "                                                    [key], {});\n",
              "        if (!dataTable) return;\n",
              "\n",
              "        const docLinkHtml = 'Like what you see? Visit the ' +\n",
              "          '<a target=\"_blank\" href=https://colab.research.google.com/notebooks/data_table.ipynb>data table notebook</a>'\n",
              "          + ' to learn more about interactive tables.';\n",
              "        element.innerHTML = '';\n",
              "        dataTable['output_type'] = 'display_data';\n",
              "        await google.colab.output.renderOutput(dataTable, element);\n",
              "        const docLink = document.createElement('div');\n",
              "        docLink.innerHTML = docLinkHtml;\n",
              "        element.appendChild(docLink);\n",
              "      }\n",
              "    </script>\n",
              "  </div>\n",
              "\n",
              "\n",
              "<div id=\"df-23ae6d46-1919-406a-997c-63ee9a840710\">\n",
              "  <button class=\"colab-df-quickchart\" onclick=\"quickchart('df-23ae6d46-1919-406a-997c-63ee9a840710')\"\n",
              "            title=\"Suggest charts\"\n",
              "            style=\"display:none;\">\n",
              "\n",
              "<svg xmlns=\"http://www.w3.org/2000/svg\" height=\"24px\"viewBox=\"0 0 24 24\"\n",
              "     width=\"24px\">\n",
              "    <g>\n",
              "        <path d=\"M19 3H5c-1.1 0-2 .9-2 2v14c0 1.1.9 2 2 2h14c1.1 0 2-.9 2-2V5c0-1.1-.9-2-2-2zM9 17H7v-7h2v7zm4 0h-2V7h2v10zm4 0h-2v-4h2v4z\"/>\n",
              "    </g>\n",
              "</svg>\n",
              "  </button>\n",
              "\n",
              "<style>\n",
              "  .colab-df-quickchart {\n",
              "      --bg-color: #E8F0FE;\n",
              "      --fill-color: #1967D2;\n",
              "      --hover-bg-color: #E2EBFA;\n",
              "      --hover-fill-color: #174EA6;\n",
              "      --disabled-fill-color: #AAA;\n",
              "      --disabled-bg-color: #DDD;\n",
              "  }\n",
              "\n",
              "  [theme=dark] .colab-df-quickchart {\n",
              "      --bg-color: #3B4455;\n",
              "      --fill-color: #D2E3FC;\n",
              "      --hover-bg-color: #434B5C;\n",
              "      --hover-fill-color: #FFFFFF;\n",
              "      --disabled-bg-color: #3B4455;\n",
              "      --disabled-fill-color: #666;\n",
              "  }\n",
              "\n",
              "  .colab-df-quickchart {\n",
              "    background-color: var(--bg-color);\n",
              "    border: none;\n",
              "    border-radius: 50%;\n",
              "    cursor: pointer;\n",
              "    display: none;\n",
              "    fill: var(--fill-color);\n",
              "    height: 32px;\n",
              "    padding: 0;\n",
              "    width: 32px;\n",
              "  }\n",
              "\n",
              "  .colab-df-quickchart:hover {\n",
              "    background-color: var(--hover-bg-color);\n",
              "    box-shadow: 0 1px 2px rgba(60, 64, 67, 0.3), 0 1px 3px 1px rgba(60, 64, 67, 0.15);\n",
              "    fill: var(--button-hover-fill-color);\n",
              "  }\n",
              "\n",
              "  .colab-df-quickchart-complete:disabled,\n",
              "  .colab-df-quickchart-complete:disabled:hover {\n",
              "    background-color: var(--disabled-bg-color);\n",
              "    fill: var(--disabled-fill-color);\n",
              "    box-shadow: none;\n",
              "  }\n",
              "\n",
              "  .colab-df-spinner {\n",
              "    border: 2px solid var(--fill-color);\n",
              "    border-color: transparent;\n",
              "    border-bottom-color: var(--fill-color);\n",
              "    animation:\n",
              "      spin 1s steps(1) infinite;\n",
              "  }\n",
              "\n",
              "  @keyframes spin {\n",
              "    0% {\n",
              "      border-color: transparent;\n",
              "      border-bottom-color: var(--fill-color);\n",
              "      border-left-color: var(--fill-color);\n",
              "    }\n",
              "    20% {\n",
              "      border-color: transparent;\n",
              "      border-left-color: var(--fill-color);\n",
              "      border-top-color: var(--fill-color);\n",
              "    }\n",
              "    30% {\n",
              "      border-color: transparent;\n",
              "      border-left-color: var(--fill-color);\n",
              "      border-top-color: var(--fill-color);\n",
              "      border-right-color: var(--fill-color);\n",
              "    }\n",
              "    40% {\n",
              "      border-color: transparent;\n",
              "      border-right-color: var(--fill-color);\n",
              "      border-top-color: var(--fill-color);\n",
              "    }\n",
              "    60% {\n",
              "      border-color: transparent;\n",
              "      border-right-color: var(--fill-color);\n",
              "    }\n",
              "    80% {\n",
              "      border-color: transparent;\n",
              "      border-right-color: var(--fill-color);\n",
              "      border-bottom-color: var(--fill-color);\n",
              "    }\n",
              "    90% {\n",
              "      border-color: transparent;\n",
              "      border-bottom-color: var(--fill-color);\n",
              "    }\n",
              "  }\n",
              "</style>\n",
              "\n",
              "  <script>\n",
              "    async function quickchart(key) {\n",
              "      const quickchartButtonEl =\n",
              "        document.querySelector('#' + key + ' button');\n",
              "      quickchartButtonEl.disabled = true;  // To prevent multiple clicks.\n",
              "      quickchartButtonEl.classList.add('colab-df-spinner');\n",
              "      try {\n",
              "        const charts = await google.colab.kernel.invokeFunction(\n",
              "            'suggestCharts', [key], {});\n",
              "      } catch (error) {\n",
              "        console.error('Error during call to suggestCharts:', error);\n",
              "      }\n",
              "      quickchartButtonEl.classList.remove('colab-df-spinner');\n",
              "      quickchartButtonEl.classList.add('colab-df-quickchart-complete');\n",
              "    }\n",
              "    (() => {\n",
              "      let quickchartButtonEl =\n",
              "        document.querySelector('#df-23ae6d46-1919-406a-997c-63ee9a840710 button');\n",
              "      quickchartButtonEl.style.display =\n",
              "        google.colab.kernel.accessAllowed ? 'block' : 'none';\n",
              "    })();\n",
              "  </script>\n",
              "</div>\n",
              "\n",
              "    </div>\n",
              "  </div>\n"
            ],
            "application/vnd.google.colaboratory.intrinsic+json": {
              "type": "dataframe",
              "variable_name": "df"
            }
          },
          "metadata": {},
          "execution_count": 6
        }
      ]
    },
    {
      "cell_type": "markdown",
      "source": [
        "Descripción de las Variables\n",
        "\n",
        "**indice_tiempo:** Fechas o periodos en los que se registraron los vuelos.\n",
        "\n",
        "**clasificacion_vuelo:** Categoría del vuelo (por ejemplo, cabotaje o internacional).\n",
        "\n",
        "**clase_vuelo:** Tipo de clase de los pasajeros (e.g., económica, ejecutiva).\n",
        "\n",
        "**aerolinea:** La aerolínea que opera el vuelo.\n",
        "\n",
        "**origen_oaci, destino_oaci:** Códigos de la OACI para los aeropuertos de origen y destino.\n",
        "\n",
        "**origen_localidad, destino_localidad:** Localidades de origen y destino.\n",
        "\n",
        "**pasajeros:** Número de pasajeros en cada vuelo.\n",
        "\n",
        "**asientos:** Número de asientos disponibles.\n",
        "\n",
        "**vuelos:** Número de vuelos operados."
      ],
      "metadata": {
        "id": "x44BFDO6aiob"
      }
    },
    {
      "cell_type": "code",
      "source": [
        "df.groupby('aerolinea')['pasajeros'].sum()"
      ],
      "metadata": {
        "id": "gT5ANNmia4DC"
      },
      "execution_count": null,
      "outputs": []
    },
    {
      "cell_type": "code",
      "source": [
        "print(df.isnull().sum())"
      ],
      "metadata": {
        "colab": {
          "base_uri": "https://localhost:8080/"
        },
        "id": "x49a-hwzB0O8",
        "outputId": "15f11ef7-11ad-4e09-af16-43c705bbec4a"
      },
      "execution_count": 7,
      "outputs": [
        {
          "output_type": "stream",
          "name": "stdout",
          "text": [
            "indice_tiempo               0\n",
            "clasificacion_vuelo         0\n",
            "clase_vuelo                 0\n",
            "aerolinea                   0\n",
            "origen_oaci                 0\n",
            "origen_aeropuerto           0\n",
            "origen_localidad            0\n",
            "origen_provincia       174120\n",
            "origen_pais                 0\n",
            "origen_continente           1\n",
            "destino_oaci                0\n",
            "destino_aeropuerto          0\n",
            "destino_localidad           0\n",
            "destino_provincia      175091\n",
            "destino_pais              198\n",
            "destino_continente          0\n",
            "pasajeros                   0\n",
            "asientos                    0\n",
            "vuelos                      0\n",
            "Unnamed: 19            795163\n",
            "Unnamed: 20            832165\n",
            "dtype: int64\n"
          ]
        }
      ]
    },
    {
      "cell_type": "code",
      "source": [
        "df.fillna(df.mean(), inplace=True)"
      ],
      "metadata": {
        "id": "eXF0IricB7I4"
      },
      "execution_count": null,
      "outputs": []
    },
    {
      "cell_type": "code",
      "source": [
        "X = df[['clasificacion_vuelo', 'clase_vuelo', 'aerolinea', 'origen_pais', 'origen_continente', 'destino_pais', 'destino_continente', 'asientos', 'vuelos']]\n",
        "\n",
        "y = df['pasajeros']"
      ],
      "metadata": {
        "id": "wmbfIvE9CAIE",
        "colab": {
          "base_uri": "https://localhost:8080/",
          "height": 183
        },
        "outputId": "81870620-5162-48a8-804a-deee8ee4d7c9"
      },
      "execution_count": null,
      "outputs": [
        {
          "output_type": "error",
          "ename": "NameError",
          "evalue": "name 'df' is not defined",
          "traceback": [
            "\u001b[0;31m---------------------------------------------------------------------------\u001b[0m",
            "\u001b[0;31mNameError\u001b[0m                                 Traceback (most recent call last)",
            "\u001b[0;32m<ipython-input-1-83a1ca9081b2>\u001b[0m in \u001b[0;36m<cell line: 1>\u001b[0;34m()\u001b[0m\n\u001b[0;32m----> 1\u001b[0;31m \u001b[0mX\u001b[0m \u001b[0;34m=\u001b[0m \u001b[0mdf\u001b[0m\u001b[0;34m[\u001b[0m\u001b[0;34m[\u001b[0m\u001b[0;34m'clasificacion_vuelo'\u001b[0m\u001b[0;34m,\u001b[0m \u001b[0;34m'clase_vuelo'\u001b[0m\u001b[0;34m,\u001b[0m \u001b[0;34m'aerolinea'\u001b[0m\u001b[0;34m,\u001b[0m \u001b[0;34m'origen_pais'\u001b[0m\u001b[0;34m,\u001b[0m \u001b[0;34m'origen_continente'\u001b[0m\u001b[0;34m,\u001b[0m \u001b[0;34m'destino_pais'\u001b[0m\u001b[0;34m,\u001b[0m \u001b[0;34m'destino_continente'\u001b[0m\u001b[0;34m,\u001b[0m \u001b[0;34m'asientos'\u001b[0m\u001b[0;34m,\u001b[0m \u001b[0;34m'vuelos'\u001b[0m\u001b[0;34m]\u001b[0m\u001b[0;34m]\u001b[0m\u001b[0;34m\u001b[0m\u001b[0;34m\u001b[0m\u001b[0m\n\u001b[0m\u001b[1;32m      2\u001b[0m \u001b[0;34m\u001b[0m\u001b[0m\n\u001b[1;32m      3\u001b[0m \u001b[0my\u001b[0m \u001b[0;34m=\u001b[0m \u001b[0mdf\u001b[0m\u001b[0;34m[\u001b[0m\u001b[0;34m'pasajeros'\u001b[0m\u001b[0;34m]\u001b[0m\u001b[0;34m\u001b[0m\u001b[0;34m\u001b[0m\u001b[0m\n",
            "\u001b[0;31mNameError\u001b[0m: name 'df' is not defined"
          ]
        }
      ]
    },
    {
      "cell_type": "code",
      "source": [
        "X_train, X_test, y_train, y_test = train_test_split(X, y, test_size=0.2, random_state=42)"
      ],
      "metadata": {
        "id": "-7kYQZisCCc3"
      },
      "execution_count": null,
      "outputs": []
    },
    {
      "cell_type": "code",
      "source": [
        "from sklearn.preprocessing import StandardScaler\n",
        "scaler = StandardScaler()\n",
        "X_train = scaler.fit_transform(X_train)\n",
        "X_test = scaler.transform(X_test)"
      ],
      "metadata": {
        "id": "i89tW4zmCDAC"
      },
      "execution_count": null,
      "outputs": []
    },
    {
      "cell_type": "code",
      "source": [
        "modelo = KNeighborsClassifier(n_neighbors=10)\n",
        "modelo.fit(X_train, y_train)"
      ],
      "metadata": {
        "id": "27xMPewyCG9n"
      },
      "execution_count": null,
      "outputs": []
    },
    {
      "cell_type": "code",
      "source": [
        "preds_train = modelo.predict(X_train)\n",
        "preds_test = modelo.predict(X_test)"
      ],
      "metadata": {
        "id": "JBE9TYH5CHe_"
      },
      "execution_count": null,
      "outputs": []
    },
    {
      "cell_type": "code",
      "source": [
        "print(\"Accuracy en entrenamiento:\", accuracy_score(y_train, preds_train))\n",
        "print(\"Accuracy en prueba:\", accuracy_score(y_test, preds_test))"
      ],
      "metadata": {
        "id": "7sTmhj_WCMf_"
      },
      "execution_count": null,
      "outputs": []
    },
    {
      "cell_type": "code",
      "source": [
        "tn, fp, fn, tp = confusion_matrix(y_test, preds_test).ravel()\n",
        "print(\"Matriz de confusión:\")\n",
        "print(confusion_matrix(y_test, preds_test))"
      ],
      "metadata": {
        "id": "HqCYu0TbCOB_"
      },
      "execution_count": null,
      "outputs": []
    },
    {
      "cell_type": "code",
      "source": [
        "print(\"Reporte de clasificación:\")\n",
        "print(classification_report(y_test, preds_test))"
      ],
      "metadata": {
        "id": "Qdkqjy5uCOmt"
      },
      "execution_count": null,
      "outputs": []
    },
    {
      "cell_type": "code",
      "source": [
        "sns.heatmap(confusion_matrix(y_test, preds_test), annot=True, fmt='d', cmap='Blues')\n",
        "plt.title('Matriz de Confusión')\n",
        "plt.xlabel('Predicción')\n",
        "plt.ylabel('Realidad')\n",
        "plt.show()"
      ],
      "metadata": {
        "id": "Nc-W7HOyCQJ1"
      },
      "execution_count": null,
      "outputs": []
    },
    {
      "cell_type": "code",
      "source": [
        "corr = df.corr()\n",
        "plt.figure(figsize=(10, 6))\n",
        "sns.heatmap(corr, annot=True, cmap='coolwarm')\n",
        "plt.title('Matriz de Correlación')\n",
        "plt.show()"
      ],
      "metadata": {
        "id": "3kDhJowJbNdf"
      },
      "execution_count": null,
      "outputs": []
    },
    {
      "cell_type": "code",
      "source": [
        "plt.figure(figsize=(10, 6))\n",
        "sns.histplot(df['pasajeros'], kde=True)\n",
        "plt.title('Distribución de Pasajeros')\n",
        "plt.show()"
      ],
      "metadata": {
        "id": "_MFNMy38a_Tk"
      },
      "execution_count": null,
      "outputs": []
    },
    {
      "cell_type": "code",
      "source": [
        "plt.figure(figsize=(10, 6))\n",
        "sns.scatterplot(x='asientos', y='pasajeros', data=df)\n",
        "plt.title('Relación entre Asientos y Pasajeros')\n",
        "plt.show()"
      ],
      "metadata": {
        "id": "9uAevrLBbF4r"
      },
      "execution_count": null,
      "outputs": []
    },
    {
      "cell_type": "code",
      "source": [
        "plt.figure(figsize=(10, 6))\n",
        "sns.boxplot(x=df['pasajeros'])\n",
        "plt.title('Boxplot de Pasajeros')\n",
        "plt.show()"
      ],
      "metadata": {
        "id": "xWNjyL2hbIzU"
      },
      "execution_count": null,
      "outputs": []
    }
  ]
}